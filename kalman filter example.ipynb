{
 "cells": [
  {
   "cell_type": "code",
   "execution_count": null,
   "metadata": {},
   "outputs": [],
   "source": [
    "# import libraries\n",
    "\n",
    "import numpy as np\n",
    "import matplotlib.pyplot as plt\n",
    "import scipy.signal as sig \n",
    "import scipy.linalg as la\n"
   ]
  },
  {
   "cell_type": "code",
   "execution_count": null,
   "metadata": {},
   "outputs": [],
   "source": [
    "Aeig = np.array([.9, .92, -.8])\n",
    "C = np.array([[1,1,1],[2,1,-1]])\n",
    "\n",
    "# T is the matrix of eigenvectors of A\n",
    "T = np.array([[1,1,2],[0,1,0],[1,1,1]])\n",
    "A = T @ np.diag(Aeig) @ la.inv(T)\n",
    "\n",
    "# R is the covariance matrix of the measurement noise\n",
    "R = .1*np.array([[1,1],[1,2]])\n",
    "# Q is the covariance matrix of the process noise\n",
    "Q = .1*np.eye(3)\n",
    "\n",
    "# initial state\n",
    "ny = 2\n",
    "nx = 3\n",
    "N = 100\n",
    "x = np.zeros((nx,N))\n",
    "v = np.zeros((ny,N))\n",
    "w = np.zeros((nx,N))\n",
    "y = np.zeros((ny,N))\n",
    "\n",
    "for k in range(N-1):\n",
    "    w[:,k] = np.random.multivariate_normal(np.zeros(nx),Q)\n",
    "    x[:,k+1] = A @ x[:,k] + w[:,k]\n",
    "    v[:,k] = np.random.multivariate_normal(np.zeros(ny),R)\n",
    "    y[:,k] = C @ x[:,k] + v[:,k]\n",
    "\n",
    "# set up variables for Kalman filter\n",
    "xhat = np.zeros((nx,N))\n",
    "xPred = np.zeros((nx,N))\n",
    "P = np.zeros((nx,nx,N))\n",
    "PPred = np.zeros((nx,nx,N))\n",
    "K = np.zeros((nx,ny,N))\n",
    "\n",
    "xhat[:,0] = np.array([1,1,1])\n",
    "T = np.random.randn(nx,nx)\n",
    "P[:,:,0] = T @ T.T\n",
    "\n"
   ]
  },
  {
   "cell_type": "code",
   "execution_count": null,
   "metadata": {},
   "outputs": [],
   "source": [
    "# Kalman filter process\n",
    "\n",
    "for k in np.arange(1,N):\n",
    "    # prediction step\n",
    "    xPred[:,k] = A @ xhat[:,k-1]\n",
    "    PPred[:,:,k] = A @ P[:,:,k-1] @ A.T + Q\n",
    "    \n",
    "    # update step\n",
    "    K[:,:,k] = PPred[:,:,k] @ C.T @ la.inv(C @ PPred[:,:,k] @ C.T + R)\n",
    "    xhat[:,k] = xPred[:,k] + K[:,:,k] @ (y[:,k] - C @ xPred[:,k])\n",
    "    P[:,:,k] = (np.eye(nx) - K[:,:,k] @ C) @ PPred[:,:,k]"
   ]
  },
  {
   "cell_type": "code",
   "execution_count": null,
   "metadata": {},
   "outputs": [],
   "source": [
    "time = np.arange(N)\n",
    "plt.plot(time,x[0,:],'b',label='true')\n",
    "plt.plot(time,xhat[0,:],'r',label='estimate')\n",
    "\n",
    "plt.figure()\n",
    "plt.plot(time,x[1,:],'b',label='true')\n",
    "plt.plot(time,xhat[1,:],'r',label='estimate')\n",
    "\n",
    "plt.figure()\n",
    "plt.plot(time,x[2,:],'b',label='true')\n",
    "plt.plot(time,xhat[2,:],'r',label='estimate')"
   ]
  }
 ],
 "metadata": {
  "kernelspec": {
   "display_name": "Python 3",
   "language": "python",
   "name": "python3"
  },
  "language_info": {
   "codemirror_mode": {
    "name": "ipython",
    "version": 3
   },
   "file_extension": ".py",
   "mimetype": "text/x-python",
   "name": "python",
   "nbconvert_exporter": "python",
   "pygments_lexer": "ipython3",
   "version": "3.11.5"
  }
 },
 "nbformat": 4,
 "nbformat_minor": 2
}
