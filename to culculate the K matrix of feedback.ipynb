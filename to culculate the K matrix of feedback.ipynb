{
 "cells": [
  {
   "cell_type": "code",
   "execution_count": null,
   "metadata": {},
   "outputs": [],
   "source": [
    "import numpy as np\n",
    "import scipy.linalg as la\n",
    "\n",
    "# the state space model\n",
    "A = np.array([[2, 0, -2], [4, -2, 2], [0, 2, -2]])\n",
    "B = np.array([[1], [0], [1]])\n",
    "\n",
    "# verify those two matrix are the right form\n",
    "print('A:\\n', A)\n",
    "print('B:\\n', B)\n",
    "\n",
    "# the desire eigenvalue you want to assign to the system\n",
    "desire_eigenvalue = np.array([2, 4 + 3*1j, 4 - 3*1j])\n",
    "\n",
    "# culculate the coefficient of the characteristic polynomial\n",
    "A_coefficient = np.poly(A)\n",
    "Ahat = np.block([[0, 1, 0], [0, 0, 1], [-A_coefficient[-1:0:-1]]])\n",
    "Bhat = np.array([[0], [0], [1]])\n",
    "print('A_coefficient:\\n', A_coefficient)\n",
    "print('Ahat:\\n', Ahat)\n",
    "print('Bhat:\\n', Bhat)"
   ]
  },
  {
   "cell_type": "code",
   "execution_count": null,
   "metadata": {},
   "outputs": [],
   "source": [
    "# culculate the Mc matrix and Mc_hat matrix\n",
    "Mc = np.block([B, np.dot(A, B), np.dot(A, np.dot(A, B))])\n",
    "print(\"Mc: \\n\", Mc)\n",
    "Mc_hat = np.block([Bhat, Ahat@Bhat, Ahat@Ahat@Bhat])\n",
    "print(\"Mc_hat: \\n\", Mc_hat)\n",
    "\n",
    "# culculate the P matrix that change the system to the controllable canonical form\n",
    "P = Mc @ la.inv(Mc_hat)\n",
    "print(\"P: \", P)\n",
    "print(\"abar: \\n\", la.inv(P)@A@P)\n",
    "print(\"bbar: \\n\", la.inv(P)@B)"
   ]
  },
  {
   "cell_type": "code",
   "execution_count": null,
   "metadata": {},
   "outputs": [],
   "source": [
    "# culculate the Khat matrix\n",
    "DeltaA_desired = np.poly(desire_eigenvalue)\n",
    "Khat = (Ahat[2, :] + DeltaA_desired[-1:0:-1]).reshape(1, 3)\n",
    "print(\"Khat: \", Khat)\n",
    "\n",
    "# to verify whether the eigenvalue of system is assigned to the desire eigenvalue\n",
    "print(la.eigvals(Ahat - np.dot(Bhat, Khat)))\n",
    "\n",
    "# culculate the K matrix\n",
    "K = Khat @ la.inv(P)\n",
    "\n",
    "# culculate the desire_A matrix\n",
    "desire_A = A - B @ K\n",
    "\n",
    "# culculate the eigenvalue of desire_A\n",
    "desire_A_eigenvalue, desire_A_eigenvector = la.eig(desire_A)\n",
    "print(\"desire_A_eigenvalue: \", desire_A_eigenvalue)"
   ]
  }
 ],
 "metadata": {
  "kernelspec": {
   "display_name": "Python 3",
   "language": "python",
   "name": "python3"
  },
  "language_info": {
   "codemirror_mode": {
    "name": "ipython",
    "version": 3
   },
   "file_extension": ".py",
   "mimetype": "text/x-python",
   "name": "python",
   "nbconvert_exporter": "python",
   "pygments_lexer": "ipython3",
   "version": "3.11.5"
  },
  "orig_nbformat": 4
 },
 "nbformat": 4,
 "nbformat_minor": 2
}
