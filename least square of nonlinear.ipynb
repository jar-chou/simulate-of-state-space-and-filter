{
 "cells": [
  {
   "cell_type": "code",
   "execution_count": null,
   "metadata": {},
   "outputs": [],
   "source": [
    "#import related libraries\n",
    "from numpy import random\n",
    "from scipy import optimize\n",
    "\n",
    "import matplotlib.pyplot as plt\n",
    "import numpy as np\n"
   ]
  },
  {
   "cell_type": "code",
   "execution_count": null,
   "metadata": {},
   "outputs": [],
   "source": [
    "# this function could return the cost of nonlinear least square for any given theta\n",
    "def nonlinear_Least_Square_Cost(theta, b, y):\n",
    "    J = 0\n",
    "    for i in range(np.size(y)):\n",
    "        J += np.square(y[i] - np.linalg.norm(theta - b[:,i], axis=0))\n",
    "    return J.item(0)"
   ]
  },
  {
   "cell_type": "code",
   "execution_count": null,
   "metadata": {},
   "outputs": [],
   "source": [
    "# first define known beacon positions\n",
    "# each column of b represents one beacon position, e.g. b[:,0] is the position of the first beacon\n",
    "b = np.mat([[1, -2, -4, 5, 10, -7,  8,  9, -7],\n",
    "           [3, -2,  3, 6, 1, 5.5, 10, -6, -7]])\n",
    "\n",
    "# for testing purpose, we assume that we know the true position of the target\n",
    "# this is \\theta to be estimated\n",
    "truePosition = np.transpose(np.mat([4, 0]))\n",
    "\n",
    "# plot the beacon and true target location on the figure\n",
    "for i in range(np.size(b, axis=1)):\n",
    "    plt.plot(b[0,i], b[1,i], 'o', ms=10)\n",
    "\n",
    "plt.plot(truePosition[0], truePosition[1], 'b*', ms=20)"
   ]
  },
  {
   "cell_type": "code",
   "execution_count": null,
   "metadata": {},
   "outputs": [],
   "source": [
    "# for testing purpose, we generate measurements data\n",
    "# in reality this data is given by your beacon sensors\n",
    "\n",
    "noise = 8*(random.random(size=(np.size(b, 1), 1)) - .5)\n",
    "y = np.zeros(len(noise))\n",
    "for i in range(len(noise)):\n",
    "    y[i] = np.linalg.norm(truePosition - b[:,i],axis = 0) + noise[i]\n",
    "\n",
    "# \"theta0\" is the initial value \n",
    "theta0 = np.array([0, 0])\n",
    "# automatic iteration to convergence\n",
    "# thetahatLS, resnorm = optimize.lestsq(nonlinear_Least_Square_Cost, theta0, args=(b, y))\n",
    "\n",
    "res = optimize.minimize(nonlinear_Least_Square_Cost, theta0, args=(b, y))\n",
    "thetahatLS = res.x"
   ]
  },
  {
   "cell_type": "code",
   "execution_count": null,
   "metadata": {},
   "outputs": [],
   "source": [
    "res"
   ]
  },
  {
   "cell_type": "code",
   "execution_count": null,
   "metadata": {},
   "outputs": [],
   "source": [
    "#plot the beacon and the true target location on the figure\n",
    "for i in range (np.size(b, 1)):\n",
    "    plt.plot(b[0, i],b[1, i], 'o', ms=10)\n",
    "\n",
    "plt.plot(truePosition[0], truePosition[1], 'b*', ms=20)\n",
    "\n",
    "#plot the estimated target location on the figure\n",
    "plt.plot(thetahatLS[0], thetahatLS[1], 'rd', ms=20)"
   ]
  },
  {
   "cell_type": "markdown",
   "metadata": {},
   "source": [
    "why the noise is more big the estimate is more accuracy"
   ]
  },
  {
   "cell_type": "code",
   "execution_count": null,
   "metadata": {},
   "outputs": [],
   "source": []
  }
 ],
 "metadata": {
  "kernelspec": {
   "display_name": "Python 3",
   "language": "python",
   "name": "python3"
  },
  "language_info": {
   "codemirror_mode": {
    "name": "ipython",
    "version": 3
   },
   "file_extension": ".py",
   "mimetype": "text/x-python",
   "name": "python",
   "nbconvert_exporter": "python",
   "pygments_lexer": "ipython3",
   "version": "3.11.5"
  },
  "orig_nbformat": 4
 },
 "nbformat": 4,
 "nbformat_minor": 2
}
