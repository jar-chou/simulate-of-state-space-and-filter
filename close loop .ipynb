{
 "cells": [
  {
   "cell_type": "code",
   "execution_count": null,
   "metadata": {},
   "outputs": [],
   "source": [
    "import numpy as np\n",
    "import matplotlib.pyplot as plt\n",
    "import scipy.signal as sig\n",
    "import scipy.linalg as la\n",
    "\n",
    "A1 = np.array([[0, 1], [-.25, -1]])\n",
    "A2 = np.array([[-0.5, -1], [0, .3]])\n",
    "\n",
    "B1 = np.array([[1], [0]])\n",
    "B2 = np.array([[0], [1]])\n",
    "C1 = np.array([[.3, .7]])\n",
    "C2 = np.array([[.5, .2]])\n",
    "\n",
    "\n",
    "N = 100\n",
    "times = np.arange(N)\n",
    "y = np.zeros((1, N))\n",
    "\n",
    "# first approach\n",
    "# construct closed loop system\n",
    "Ac = np.block([[A1, B1*C2], [B2*C1, A2]])\n",
    "Cc = np.block([np.zeros((1,2)), C2])\n",
    "# simulate closed loop system\n",
    "x = np.zeros((4, N))\n",
    "\n",
    "# initial state\n",
    "x[:, 0] = np.array([[1], [1], [-1], [-1]])[:, 0]\n",
    "for k in range(N-1):\n",
    "    x[:, k+1] = Ac @ x[:, k]\n",
    "    y[:, k] = Cc @ x[:, k]\n",
    "plt.figure(1)\n",
    "plt.plot(times, y[0, :], 'r')\n"
   ]
  },
  {
   "cell_type": "code",
   "execution_count": null,
   "metadata": {},
   "outputs": [],
   "source": [
    "# second approach\n",
    "# initialization\n",
    "\n",
    "x1 = np.zeros((2, N))\n",
    "x2 = np.zeros((2, N))\n",
    "y1 = np.zeros((1, N))\n",
    "y2 = np.zeros((1, N))\n",
    "u1 = np.zeros((1, N))\n",
    "u2 = np.zeros((1, N))\n",
    "x1[:, 0] = np.array([[1], [1]])[:, 0]\n",
    "x2[:, 0] = np.array([[-1], [-1]])[:, 0]\n",
    "\n",
    "# start simulation\n",
    "\n",
    "for k in range(N-1):\n",
    "    y1[:, k] = C1 @ x1[:, k]\n",
    "    y2[:, k] = C2 @ x2[:, k]\n",
    "\n",
    "    # control law, connect the two systems\n",
    "    u1[:, k] = y2[:, k]\n",
    "    u2[:, k] = y1[:, k]\n",
    "\n",
    "    # state update\n",
    "    x1[:, k+1] = A1 @ x1[:, k] + B1 @ u1[:, k]\n",
    "    x2[:, k+1] = A2 @ x2[:, k] + B2 @ u2[:, k]\n",
    "\n",
    "# FILEPATH: Untitled-2.ipynb\n",
    "plt.figure(2)\n",
    "plt.plot(times, y2[0, :], 'g')"
   ]
  }
 ],
 "metadata": {
  "kernelspec": {
   "display_name": "Python 3",
   "language": "python",
   "name": "python3"
  },
  "language_info": {
   "codemirror_mode": {
    "name": "ipython",
    "version": 3
   },
   "file_extension": ".py",
   "mimetype": "text/x-python",
   "name": "python",
   "nbconvert_exporter": "python",
   "pygments_lexer": "ipython3",
   "version": "3.11.5"
  },
  "orig_nbformat": 4
 },
 "nbformat": 4,
 "nbformat_minor": 2
}
